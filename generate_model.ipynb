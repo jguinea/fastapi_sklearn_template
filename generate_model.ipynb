{
 "cells": [
  {
   "cell_type": "code",
   "execution_count": 26,
   "metadata": {},
   "outputs": [],
   "source": [
    "import matplotlib.pyplot as plt\n",
    "import numpy as np\n",
    "import pickle\n",
    "import pandas as pd\n",
    "\n",
    "from sklearn.preprocessing import StandardScaler, OneHotEncoder\n",
    "from sklearn.compose import ColumnTransformer\n",
    "from sklearn.pipeline import Pipeline\n",
    "from sklearn.impute import SimpleImputer\n",
    "from sklearn.datasets import fetch_openml\n",
    "from sklearn.model_selection import train_test_split\n",
    "from sklearn.decomposition import PCA\n",
    "from sklearn.ensemble import RandomForestClassifier\n",
    "from sklearn.metrics import f1_score, classification_report\n",
    "from sklearn.model_selection import GridSearchCV"
   ]
  },
  {
   "cell_type": "code",
   "execution_count": 2,
   "metadata": {},
   "outputs": [
    {
     "name": "stderr",
     "output_type": "stream",
     "text": [
      "c:\\Users\\Usuario\\.conda\\envs\\sonda\\lib\\site-packages\\sklearn\\datasets\\_openml.py:311: UserWarning: Multiple active versions of the dataset matching the name credit-g exist. Versions may be fundamentally different, returning version 1.\n",
      "  warn(\n",
      "c:\\Users\\Usuario\\.conda\\envs\\sonda\\lib\\site-packages\\sklearn\\datasets\\_openml.py:1022: FutureWarning: The default value of `parser` will change from `'liac-arff'` to `'auto'` in 1.4. You can set `parser='auto'` to silence this warning. Therefore, an `ImportError` will be raised from 1.4 if the dataset is dense and pandas is not installed. Note that the pandas parser may return different data types. See the Notes Section in fetch_openml's API doc for details.\n",
      "  warn(\n"
     ]
    }
   ],
   "source": [
    "credit = fetch_openml(name=\"credit-g\", as_frame=True)\n",
    "X, y = credit.data, credit.target\n",
    "X.to_csv(\"resources/data/X.csv\")\n",
    "y.to_csv(\"resources/data/y.csv\")"
   ]
  },
  {
   "cell_type": "code",
   "execution_count": 3,
   "metadata": {},
   "outputs": [],
   "source": [
    "categorical_features = list(X.dtypes[X.dtypes == 'category'].index)\n",
    "numerical_features = list(X.dtypes[X.dtypes != 'category'].index)\n",
    "categorical_encoder = OneHotEncoder(handle_unknown=\"ignore\")\n",
    "numerical_pipe = Pipeline(steps=[\n",
    "            ('imputer', SimpleImputer(strategy='median')),\n",
    "            ('scaler', StandardScaler())])\n",
    "\n",
    "vector_cleaning = ColumnTransformer(\n",
    "    [\n",
    "        (\"cat\", categorical_encoder, categorical_features),\n",
    "        (\"num\", numerical_pipe, numerical_features),\n",
    "    ]\n",
    ")\n",
    "\n",
    "pca = PCA(n_components=10)\n",
    "\n",
    "preprocessing = Pipeline(\n",
    "    [(\"vector_cleaning\", vector_cleaning),\n",
    "    (\"dim_reduction\", pca),]\n",
    ")"
   ]
  },
  {
   "cell_type": "code",
   "execution_count": 4,
   "metadata": {},
   "outputs": [],
   "source": [
    "model = RandomForestClassifier()"
   ]
  },
  {
   "cell_type": "code",
   "execution_count": 5,
   "metadata": {},
   "outputs": [],
   "source": [
    "pipeline = Pipeline([(\"preprocessing\", preprocessing), (\"classifier\", model)])"
   ]
  },
  {
   "cell_type": "code",
   "execution_count": 6,
   "metadata": {},
   "outputs": [],
   "source": [
    "X_train, X_test, y_train, y_test = train_test_split(\n",
    "    X, y, test_size=0.1\n",
    ")"
   ]
  },
  {
   "cell_type": "code",
   "execution_count": 14,
   "metadata": {},
   "outputs": [],
   "source": [
    "param_grid = {\n",
    "    \"preprocessing__dim_reduction__n_components\": [5, 15, 30, 45, 60],\n",
    "    \"classifier__n_estimators\": [10, 50, 100, 150, 200],\n",
    "    \"classifier__criterion\": [\"gini\", \"entropy\", \"log_loss\"],\n",
    "}"
   ]
  },
  {
   "cell_type": "code",
   "execution_count": 15,
   "metadata": {},
   "outputs": [
    {
     "data": {
      "text/html": [
       "<style>#sk-container-id-1 {color: black;}#sk-container-id-1 pre{padding: 0;}#sk-container-id-1 div.sk-toggleable {background-color: white;}#sk-container-id-1 label.sk-toggleable__label {cursor: pointer;display: block;width: 100%;margin-bottom: 0;padding: 0.3em;box-sizing: border-box;text-align: center;}#sk-container-id-1 label.sk-toggleable__label-arrow:before {content: \"▸\";float: left;margin-right: 0.25em;color: #696969;}#sk-container-id-1 label.sk-toggleable__label-arrow:hover:before {color: black;}#sk-container-id-1 div.sk-estimator:hover label.sk-toggleable__label-arrow:before {color: black;}#sk-container-id-1 div.sk-toggleable__content {max-height: 0;max-width: 0;overflow: hidden;text-align: left;background-color: #f0f8ff;}#sk-container-id-1 div.sk-toggleable__content pre {margin: 0.2em;color: black;border-radius: 0.25em;background-color: #f0f8ff;}#sk-container-id-1 input.sk-toggleable__control:checked~div.sk-toggleable__content {max-height: 200px;max-width: 100%;overflow: auto;}#sk-container-id-1 input.sk-toggleable__control:checked~label.sk-toggleable__label-arrow:before {content: \"▾\";}#sk-container-id-1 div.sk-estimator input.sk-toggleable__control:checked~label.sk-toggleable__label {background-color: #d4ebff;}#sk-container-id-1 div.sk-label input.sk-toggleable__control:checked~label.sk-toggleable__label {background-color: #d4ebff;}#sk-container-id-1 input.sk-hidden--visually {border: 0;clip: rect(1px 1px 1px 1px);clip: rect(1px, 1px, 1px, 1px);height: 1px;margin: -1px;overflow: hidden;padding: 0;position: absolute;width: 1px;}#sk-container-id-1 div.sk-estimator {font-family: monospace;background-color: #f0f8ff;border: 1px dotted black;border-radius: 0.25em;box-sizing: border-box;margin-bottom: 0.5em;}#sk-container-id-1 div.sk-estimator:hover {background-color: #d4ebff;}#sk-container-id-1 div.sk-parallel-item::after {content: \"\";width: 100%;border-bottom: 1px solid gray;flex-grow: 1;}#sk-container-id-1 div.sk-label:hover label.sk-toggleable__label {background-color: #d4ebff;}#sk-container-id-1 div.sk-serial::before {content: \"\";position: absolute;border-left: 1px solid gray;box-sizing: border-box;top: 0;bottom: 0;left: 50%;z-index: 0;}#sk-container-id-1 div.sk-serial {display: flex;flex-direction: column;align-items: center;background-color: white;padding-right: 0.2em;padding-left: 0.2em;position: relative;}#sk-container-id-1 div.sk-item {position: relative;z-index: 1;}#sk-container-id-1 div.sk-parallel {display: flex;align-items: stretch;justify-content: center;background-color: white;position: relative;}#sk-container-id-1 div.sk-item::before, #sk-container-id-1 div.sk-parallel-item::before {content: \"\";position: absolute;border-left: 1px solid gray;box-sizing: border-box;top: 0;bottom: 0;left: 50%;z-index: -1;}#sk-container-id-1 div.sk-parallel-item {display: flex;flex-direction: column;z-index: 1;position: relative;background-color: white;}#sk-container-id-1 div.sk-parallel-item:first-child::after {align-self: flex-end;width: 50%;}#sk-container-id-1 div.sk-parallel-item:last-child::after {align-self: flex-start;width: 50%;}#sk-container-id-1 div.sk-parallel-item:only-child::after {width: 0;}#sk-container-id-1 div.sk-dashed-wrapped {border: 1px dashed gray;margin: 0 0.4em 0.5em 0.4em;box-sizing: border-box;padding-bottom: 0.4em;background-color: white;}#sk-container-id-1 div.sk-label label {font-family: monospace;font-weight: bold;display: inline-block;line-height: 1.2em;}#sk-container-id-1 div.sk-label-container {text-align: center;}#sk-container-id-1 div.sk-container {/* jupyter's `normalize.less` sets `[hidden] { display: none; }` but bootstrap.min.css set `[hidden] { display: none !important; }` so we also need the `!important` here to be able to override the default hidden behavior on the sphinx rendered scikit-learn.org. See: https://github.com/scikit-learn/scikit-learn/issues/21755 */display: inline-block !important;position: relative;}#sk-container-id-1 div.sk-text-repr-fallback {display: none;}</style><div id=\"sk-container-id-1\" class=\"sk-top-container\"><div class=\"sk-text-repr-fallback\"><pre>GridSearchCV(estimator=Pipeline(steps=[(&#x27;preprocessing&#x27;,\n",
       "                                        Pipeline(steps=[(&#x27;vector_cleaning&#x27;,\n",
       "                                                         ColumnTransformer(transformers=[(&#x27;cat&#x27;,\n",
       "                                                                                          OneHotEncoder(handle_unknown=&#x27;ignore&#x27;),\n",
       "                                                                                          [&#x27;checking_status&#x27;,\n",
       "                                                                                           &#x27;credit_history&#x27;,\n",
       "                                                                                           &#x27;purpose&#x27;,\n",
       "                                                                                           &#x27;savings_status&#x27;,\n",
       "                                                                                           &#x27;employment&#x27;,\n",
       "                                                                                           &#x27;personal_status&#x27;,\n",
       "                                                                                           &#x27;other_parties&#x27;,\n",
       "                                                                                           &#x27;property_magnitude&#x27;,\n",
       "                                                                                           &#x27;other_payment_plans&#x27;,\n",
       "                                                                                           &#x27;housing&#x27;,\n",
       "                                                                                           &#x27;job&#x27;,\n",
       "                                                                                           &#x27;own_telepho...\n",
       "                                                                                           &#x27;installment_commitment&#x27;,\n",
       "                                                                                           &#x27;residence_since&#x27;,\n",
       "                                                                                           &#x27;age&#x27;,\n",
       "                                                                                           &#x27;existing_credits&#x27;,\n",
       "                                                                                           &#x27;num_dependents&#x27;])])),\n",
       "                                                        (&#x27;dim_reduction&#x27;,\n",
       "                                                         PCA(n_components=10))])),\n",
       "                                       (&#x27;classifier&#x27;,\n",
       "                                        RandomForestClassifier())]),\n",
       "             n_jobs=2,\n",
       "             param_grid={&#x27;classifier__criterion&#x27;: [&#x27;gini&#x27;, &#x27;entropy&#x27;,\n",
       "                                                   &#x27;log_loss&#x27;],\n",
       "                         &#x27;classifier__n_estimators&#x27;: [10, 50, 100, 150, 200],\n",
       "                         &#x27;preprocessing__dim_reduction__n_components&#x27;: [5, 15,\n",
       "                                                                        30, 45,\n",
       "                                                                        60]})</pre><b>In a Jupyter environment, please rerun this cell to show the HTML representation or trust the notebook. <br />On GitHub, the HTML representation is unable to render, please try loading this page with nbviewer.org.</b></div><div class=\"sk-container\" hidden><div class=\"sk-item sk-dashed-wrapped\"><div class=\"sk-label-container\"><div class=\"sk-label sk-toggleable\"><input class=\"sk-toggleable__control sk-hidden--visually\" id=\"sk-estimator-id-1\" type=\"checkbox\" ><label for=\"sk-estimator-id-1\" class=\"sk-toggleable__label sk-toggleable__label-arrow\">GridSearchCV</label><div class=\"sk-toggleable__content\"><pre>GridSearchCV(estimator=Pipeline(steps=[(&#x27;preprocessing&#x27;,\n",
       "                                        Pipeline(steps=[(&#x27;vector_cleaning&#x27;,\n",
       "                                                         ColumnTransformer(transformers=[(&#x27;cat&#x27;,\n",
       "                                                                                          OneHotEncoder(handle_unknown=&#x27;ignore&#x27;),\n",
       "                                                                                          [&#x27;checking_status&#x27;,\n",
       "                                                                                           &#x27;credit_history&#x27;,\n",
       "                                                                                           &#x27;purpose&#x27;,\n",
       "                                                                                           &#x27;savings_status&#x27;,\n",
       "                                                                                           &#x27;employment&#x27;,\n",
       "                                                                                           &#x27;personal_status&#x27;,\n",
       "                                                                                           &#x27;other_parties&#x27;,\n",
       "                                                                                           &#x27;property_magnitude&#x27;,\n",
       "                                                                                           &#x27;other_payment_plans&#x27;,\n",
       "                                                                                           &#x27;housing&#x27;,\n",
       "                                                                                           &#x27;job&#x27;,\n",
       "                                                                                           &#x27;own_telepho...\n",
       "                                                                                           &#x27;installment_commitment&#x27;,\n",
       "                                                                                           &#x27;residence_since&#x27;,\n",
       "                                                                                           &#x27;age&#x27;,\n",
       "                                                                                           &#x27;existing_credits&#x27;,\n",
       "                                                                                           &#x27;num_dependents&#x27;])])),\n",
       "                                                        (&#x27;dim_reduction&#x27;,\n",
       "                                                         PCA(n_components=10))])),\n",
       "                                       (&#x27;classifier&#x27;,\n",
       "                                        RandomForestClassifier())]),\n",
       "             n_jobs=2,\n",
       "             param_grid={&#x27;classifier__criterion&#x27;: [&#x27;gini&#x27;, &#x27;entropy&#x27;,\n",
       "                                                   &#x27;log_loss&#x27;],\n",
       "                         &#x27;classifier__n_estimators&#x27;: [10, 50, 100, 150, 200],\n",
       "                         &#x27;preprocessing__dim_reduction__n_components&#x27;: [5, 15,\n",
       "                                                                        30, 45,\n",
       "                                                                        60]})</pre></div></div></div><div class=\"sk-parallel\"><div class=\"sk-parallel-item\"><div class=\"sk-item\"><div class=\"sk-label-container\"><div class=\"sk-label sk-toggleable\"><input class=\"sk-toggleable__control sk-hidden--visually\" id=\"sk-estimator-id-2\" type=\"checkbox\" ><label for=\"sk-estimator-id-2\" class=\"sk-toggleable__label sk-toggleable__label-arrow\">estimator: Pipeline</label><div class=\"sk-toggleable__content\"><pre>Pipeline(steps=[(&#x27;preprocessing&#x27;,\n",
       "                 Pipeline(steps=[(&#x27;vector_cleaning&#x27;,\n",
       "                                  ColumnTransformer(transformers=[(&#x27;cat&#x27;,\n",
       "                                                                   OneHotEncoder(handle_unknown=&#x27;ignore&#x27;),\n",
       "                                                                   [&#x27;checking_status&#x27;,\n",
       "                                                                    &#x27;credit_history&#x27;,\n",
       "                                                                    &#x27;purpose&#x27;,\n",
       "                                                                    &#x27;savings_status&#x27;,\n",
       "                                                                    &#x27;employment&#x27;,\n",
       "                                                                    &#x27;personal_status&#x27;,\n",
       "                                                                    &#x27;other_parties&#x27;,\n",
       "                                                                    &#x27;property_magnitude&#x27;,\n",
       "                                                                    &#x27;other_payment_plans&#x27;,\n",
       "                                                                    &#x27;housing&#x27;,\n",
       "                                                                    &#x27;job&#x27;,\n",
       "                                                                    &#x27;own_telephone&#x27;,\n",
       "                                                                    &#x27;foreign_worker&#x27;]),\n",
       "                                                                  (&#x27;num&#x27;,\n",
       "                                                                   Pipeline(steps=[(&#x27;imputer&#x27;,\n",
       "                                                                                    SimpleImputer(strategy=&#x27;median&#x27;)),\n",
       "                                                                                   (&#x27;scaler&#x27;,\n",
       "                                                                                    StandardScaler())]),\n",
       "                                                                   [&#x27;duration&#x27;,\n",
       "                                                                    &#x27;credit_amount&#x27;,\n",
       "                                                                    &#x27;installment_commitment&#x27;,\n",
       "                                                                    &#x27;residence_since&#x27;,\n",
       "                                                                    &#x27;age&#x27;,\n",
       "                                                                    &#x27;existing_credits&#x27;,\n",
       "                                                                    &#x27;num_dependents&#x27;])])),\n",
       "                                 (&#x27;dim_reduction&#x27;, PCA(n_components=10))])),\n",
       "                (&#x27;classifier&#x27;, RandomForestClassifier())])</pre></div></div></div><div class=\"sk-serial\"><div class=\"sk-item\"><div class=\"sk-serial\"><div class=\"sk-item\"><div class=\"sk-label-container\"><div class=\"sk-label sk-toggleable\"><input class=\"sk-toggleable__control sk-hidden--visually\" id=\"sk-estimator-id-3\" type=\"checkbox\" ><label for=\"sk-estimator-id-3\" class=\"sk-toggleable__label sk-toggleable__label-arrow\">preprocessing: Pipeline</label><div class=\"sk-toggleable__content\"><pre>Pipeline(steps=[(&#x27;vector_cleaning&#x27;,\n",
       "                 ColumnTransformer(transformers=[(&#x27;cat&#x27;,\n",
       "                                                  OneHotEncoder(handle_unknown=&#x27;ignore&#x27;),\n",
       "                                                  [&#x27;checking_status&#x27;,\n",
       "                                                   &#x27;credit_history&#x27;, &#x27;purpose&#x27;,\n",
       "                                                   &#x27;savings_status&#x27;,\n",
       "                                                   &#x27;employment&#x27;,\n",
       "                                                   &#x27;personal_status&#x27;,\n",
       "                                                   &#x27;other_parties&#x27;,\n",
       "                                                   &#x27;property_magnitude&#x27;,\n",
       "                                                   &#x27;other_payment_plans&#x27;,\n",
       "                                                   &#x27;housing&#x27;, &#x27;job&#x27;,\n",
       "                                                   &#x27;own_telephone&#x27;,\n",
       "                                                   &#x27;foreign_worker&#x27;]),\n",
       "                                                 (&#x27;num&#x27;,\n",
       "                                                  Pipeline(steps=[(&#x27;imputer&#x27;,\n",
       "                                                                   SimpleImputer(strategy=&#x27;median&#x27;)),\n",
       "                                                                  (&#x27;scaler&#x27;,\n",
       "                                                                   StandardScaler())]),\n",
       "                                                  [&#x27;duration&#x27;, &#x27;credit_amount&#x27;,\n",
       "                                                   &#x27;installment_commitment&#x27;,\n",
       "                                                   &#x27;residence_since&#x27;, &#x27;age&#x27;,\n",
       "                                                   &#x27;existing_credits&#x27;,\n",
       "                                                   &#x27;num_dependents&#x27;])])),\n",
       "                (&#x27;dim_reduction&#x27;, PCA(n_components=10))])</pre></div></div></div><div class=\"sk-serial\"><div class=\"sk-item sk-dashed-wrapped\"><div class=\"sk-label-container\"><div class=\"sk-label sk-toggleable\"><input class=\"sk-toggleable__control sk-hidden--visually\" id=\"sk-estimator-id-4\" type=\"checkbox\" ><label for=\"sk-estimator-id-4\" class=\"sk-toggleable__label sk-toggleable__label-arrow\">vector_cleaning: ColumnTransformer</label><div class=\"sk-toggleable__content\"><pre>ColumnTransformer(transformers=[(&#x27;cat&#x27;, OneHotEncoder(handle_unknown=&#x27;ignore&#x27;),\n",
       "                                 [&#x27;checking_status&#x27;, &#x27;credit_history&#x27;,\n",
       "                                  &#x27;purpose&#x27;, &#x27;savings_status&#x27;, &#x27;employment&#x27;,\n",
       "                                  &#x27;personal_status&#x27;, &#x27;other_parties&#x27;,\n",
       "                                  &#x27;property_magnitude&#x27;, &#x27;other_payment_plans&#x27;,\n",
       "                                  &#x27;housing&#x27;, &#x27;job&#x27;, &#x27;own_telephone&#x27;,\n",
       "                                  &#x27;foreign_worker&#x27;]),\n",
       "                                (&#x27;num&#x27;,\n",
       "                                 Pipeline(steps=[(&#x27;imputer&#x27;,\n",
       "                                                  SimpleImputer(strategy=&#x27;median&#x27;)),\n",
       "                                                 (&#x27;scaler&#x27;, StandardScaler())]),\n",
       "                                 [&#x27;duration&#x27;, &#x27;credit_amount&#x27;,\n",
       "                                  &#x27;installment_commitment&#x27;, &#x27;residence_since&#x27;,\n",
       "                                  &#x27;age&#x27;, &#x27;existing_credits&#x27;,\n",
       "                                  &#x27;num_dependents&#x27;])])</pre></div></div></div><div class=\"sk-parallel\"><div class=\"sk-parallel-item\"><div class=\"sk-item\"><div class=\"sk-label-container\"><div class=\"sk-label sk-toggleable\"><input class=\"sk-toggleable__control sk-hidden--visually\" id=\"sk-estimator-id-5\" type=\"checkbox\" ><label for=\"sk-estimator-id-5\" class=\"sk-toggleable__label sk-toggleable__label-arrow\">cat</label><div class=\"sk-toggleable__content\"><pre>[&#x27;checking_status&#x27;, &#x27;credit_history&#x27;, &#x27;purpose&#x27;, &#x27;savings_status&#x27;, &#x27;employment&#x27;, &#x27;personal_status&#x27;, &#x27;other_parties&#x27;, &#x27;property_magnitude&#x27;, &#x27;other_payment_plans&#x27;, &#x27;housing&#x27;, &#x27;job&#x27;, &#x27;own_telephone&#x27;, &#x27;foreign_worker&#x27;]</pre></div></div></div><div class=\"sk-serial\"><div class=\"sk-item\"><div class=\"sk-estimator sk-toggleable\"><input class=\"sk-toggleable__control sk-hidden--visually\" id=\"sk-estimator-id-6\" type=\"checkbox\" ><label for=\"sk-estimator-id-6\" class=\"sk-toggleable__label sk-toggleable__label-arrow\">OneHotEncoder</label><div class=\"sk-toggleable__content\"><pre>OneHotEncoder(handle_unknown=&#x27;ignore&#x27;)</pre></div></div></div></div></div></div><div class=\"sk-parallel-item\"><div class=\"sk-item\"><div class=\"sk-label-container\"><div class=\"sk-label sk-toggleable\"><input class=\"sk-toggleable__control sk-hidden--visually\" id=\"sk-estimator-id-7\" type=\"checkbox\" ><label for=\"sk-estimator-id-7\" class=\"sk-toggleable__label sk-toggleable__label-arrow\">num</label><div class=\"sk-toggleable__content\"><pre>[&#x27;duration&#x27;, &#x27;credit_amount&#x27;, &#x27;installment_commitment&#x27;, &#x27;residence_since&#x27;, &#x27;age&#x27;, &#x27;existing_credits&#x27;, &#x27;num_dependents&#x27;]</pre></div></div></div><div class=\"sk-serial\"><div class=\"sk-item\"><div class=\"sk-serial\"><div class=\"sk-item\"><div class=\"sk-estimator sk-toggleable\"><input class=\"sk-toggleable__control sk-hidden--visually\" id=\"sk-estimator-id-8\" type=\"checkbox\" ><label for=\"sk-estimator-id-8\" class=\"sk-toggleable__label sk-toggleable__label-arrow\">SimpleImputer</label><div class=\"sk-toggleable__content\"><pre>SimpleImputer(strategy=&#x27;median&#x27;)</pre></div></div></div><div class=\"sk-item\"><div class=\"sk-estimator sk-toggleable\"><input class=\"sk-toggleable__control sk-hidden--visually\" id=\"sk-estimator-id-9\" type=\"checkbox\" ><label for=\"sk-estimator-id-9\" class=\"sk-toggleable__label sk-toggleable__label-arrow\">StandardScaler</label><div class=\"sk-toggleable__content\"><pre>StandardScaler()</pre></div></div></div></div></div></div></div></div></div></div><div class=\"sk-item\"><div class=\"sk-estimator sk-toggleable\"><input class=\"sk-toggleable__control sk-hidden--visually\" id=\"sk-estimator-id-10\" type=\"checkbox\" ><label for=\"sk-estimator-id-10\" class=\"sk-toggleable__label sk-toggleable__label-arrow\">PCA</label><div class=\"sk-toggleable__content\"><pre>PCA(n_components=10)</pre></div></div></div></div></div><div class=\"sk-item\"><div class=\"sk-estimator sk-toggleable\"><input class=\"sk-toggleable__control sk-hidden--visually\" id=\"sk-estimator-id-11\" type=\"checkbox\" ><label for=\"sk-estimator-id-11\" class=\"sk-toggleable__label sk-toggleable__label-arrow\">RandomForestClassifier</label><div class=\"sk-toggleable__content\"><pre>RandomForestClassifier()</pre></div></div></div></div></div></div></div></div></div></div></div></div>"
      ],
      "text/plain": [
       "GridSearchCV(estimator=Pipeline(steps=[('preprocessing',\n",
       "                                        Pipeline(steps=[('vector_cleaning',\n",
       "                                                         ColumnTransformer(transformers=[('cat',\n",
       "                                                                                          OneHotEncoder(handle_unknown='ignore'),\n",
       "                                                                                          ['checking_status',\n",
       "                                                                                           'credit_history',\n",
       "                                                                                           'purpose',\n",
       "                                                                                           'savings_status',\n",
       "                                                                                           'employment',\n",
       "                                                                                           'personal_status',\n",
       "                                                                                           'other_parties',\n",
       "                                                                                           'property_magnitude',\n",
       "                                                                                           'other_payment_plans',\n",
       "                                                                                           'housing',\n",
       "                                                                                           'job',\n",
       "                                                                                           'own_telepho...\n",
       "                                                                                           'installment_commitment',\n",
       "                                                                                           'residence_since',\n",
       "                                                                                           'age',\n",
       "                                                                                           'existing_credits',\n",
       "                                                                                           'num_dependents'])])),\n",
       "                                                        ('dim_reduction',\n",
       "                                                         PCA(n_components=10))])),\n",
       "                                       ('classifier',\n",
       "                                        RandomForestClassifier())]),\n",
       "             n_jobs=2,\n",
       "             param_grid={'classifier__criterion': ['gini', 'entropy',\n",
       "                                                   'log_loss'],\n",
       "                         'classifier__n_estimators': [10, 50, 100, 150, 200],\n",
       "                         'preprocessing__dim_reduction__n_components': [5, 15,\n",
       "                                                                        30, 45,\n",
       "                                                                        60]})"
      ]
     },
     "execution_count": 15,
     "metadata": {},
     "output_type": "execute_result"
    }
   ],
   "source": [
    "search = GridSearchCV(pipeline, param_grid, n_jobs=2)\n",
    "search.fit(X, y)"
   ]
  },
  {
   "cell_type": "code",
   "execution_count": 16,
   "metadata": {},
   "outputs": [
    {
     "name": "stdout",
     "output_type": "stream",
     "text": [
      "Best parameter (CV score=0.755):\n",
      "{'classifier__criterion': 'log_loss', 'classifier__n_estimators': 50, 'preprocessing__dim_reduction__n_components': 45}\n"
     ]
    }
   ],
   "source": [
    "print(\"Best parameter (CV score=%0.3f):\" % search.best_score_)\n",
    "print(search.best_params_)"
   ]
  },
  {
   "cell_type": "code",
   "execution_count": 27,
   "metadata": {},
   "outputs": [],
   "source": [
    "def save_obj(obj, name):\n",
    "    with open('resources/objects/'+ name + '.pkl', 'wb') as f:\n",
    "        pickle.dump(obj, f, pickle.HIGHEST_PROTOCOL)"
   ]
  },
  {
   "cell_type": "code",
   "execution_count": 28,
   "metadata": {},
   "outputs": [],
   "source": [
    "save_obj(search.best_estimator_, \"pipeline\")"
   ]
  },
  {
   "cell_type": "code",
   "execution_count": 3,
   "metadata": {},
   "outputs": [],
   "source": [
    "from fastapi.encoders import jsonable_encoder"
   ]
  },
  {
   "cell_type": "code",
   "execution_count": 33,
   "metadata": {},
   "outputs": [
    {
     "data": {
      "text/plain": [
       "checking_status           category\n",
       "duration                   float64\n",
       "credit_history            category\n",
       "purpose                   category\n",
       "credit_amount              float64\n",
       "savings_status            category\n",
       "employment                category\n",
       "installment_commitment     float64\n",
       "personal_status           category\n",
       "other_parties             category\n",
       "residence_since            float64\n",
       "property_magnitude        category\n",
       "age                        float64\n",
       "other_payment_plans       category\n",
       "housing                   category\n",
       "existing_credits           float64\n",
       "job                       category\n",
       "num_dependents             float64\n",
       "own_telephone             category\n",
       "foreign_worker            category\n",
       "dtype: object"
      ]
     },
     "execution_count": 33,
     "metadata": {},
     "output_type": "execute_result"
    }
   ],
   "source": [
    "categories_raw"
   ]
  },
  {
   "cell_type": "code",
   "execution_count": 62,
   "metadata": {},
   "outputs": [
    {
     "data": {
      "text/plain": [
       "str"
      ]
     },
     "execution_count": 62,
     "metadata": {},
     "output_type": "execute_result"
    }
   ],
   "source": [
    "type(X.sample()[\"checking_status\"].values[0])"
   ]
  },
  {
   "cell_type": "code",
   "execution_count": 65,
   "metadata": {},
   "outputs": [],
   "source": [
    "categories_dict = {}\n",
    "categories_raw = X.dtypes\n",
    "example_data = X.sample()\n",
    "for category in categories_raw.index:\n",
    "    numeric_data_types = {int, float, complex}\n",
    "    cat_type = categories_raw[category]\n",
    "    if cat_type not in numeric_data_types and not pd.api.types.is_numeric_dtype(cat_type):\n",
    "        example_value = X.sample()[category].values[0]\n",
    "        categories_dict[category] = (str, example_value)\n",
    "    else:\n",
    "        example_value = X.sample()[category].values[0]\n",
    "        categories_dict[category] = (float, example_value)\n"
   ]
  },
  {
   "cell_type": "code",
   "execution_count": 66,
   "metadata": {},
   "outputs": [],
   "source": [
    "def load_obj(name):\n",
    "    with open('resources/objects/' + name + '.pkl', 'rb') as f:\n",
    "        return pickle.load(f)\n",
    "    \n",
    "pipe = load_obj(\"pipeline\")"
   ]
  },
  {
   "cell_type": "code",
   "execution_count": 74,
   "metadata": {},
   "outputs": [],
   "source": [
    "data = {'checking_status': '0<=X<200', 'duration': 48.0, 'credit_history': 'existing paid', 'purpose': 'furniture/equipment', 'credit_amount': 7824.0, 'savings_status': '100<=X<500', 'employment': '1<=X<4', 'installment_commitment': 2.0, 'personal_status': 'male single', 'other_parties': 'none', 'residence_since': 4.0, 'property_magnitude': 'car', 'age': 35.0, 'other_payment_plans': 'bank', 'housing': 'rent', 'existing_credits': 2.0, 'job': 'skilled', 'num_dependents': 1.0, 'own_telephone': 'none', 'foreign_worker': 'yes'}"
   ]
  },
  {
   "cell_type": "code",
   "execution_count": 76,
   "metadata": {},
   "outputs": [
    {
     "data": {
      "text/plain": [
       "checking_status                      0<=X<200\n",
       "duration                                 48.0\n",
       "credit_history                  existing paid\n",
       "purpose                   furniture/equipment\n",
       "credit_amount                          7824.0\n",
       "savings_status                     100<=X<500\n",
       "employment                             1<=X<4\n",
       "installment_commitment                    2.0\n",
       "personal_status                   male single\n",
       "other_parties                            none\n",
       "residence_since                           4.0\n",
       "property_magnitude                        car\n",
       "age                                      35.0\n",
       "other_payment_plans                      bank\n",
       "housing                                  rent\n",
       "existing_credits                          2.0\n",
       "job                                   skilled\n",
       "num_dependents                            1.0\n",
       "own_telephone                            none\n",
       "foreign_worker                            yes\n",
       "dtype: object"
      ]
     },
     "execution_count": 76,
     "metadata": {},
     "output_type": "execute_result"
    }
   ],
   "source": [
    "pd.Series(data)"
   ]
  },
  {
   "cell_type": "code",
   "execution_count": 80,
   "metadata": {},
   "outputs": [
    {
     "data": {
      "text/plain": [
       "array(['good'], dtype=object)"
      ]
     },
     "execution_count": 80,
     "metadata": {},
     "output_type": "execute_result"
    }
   ],
   "source": [
    "pipe.predict(pd.DataFrame([data]))"
   ]
  }
 ],
 "metadata": {
  "kernelspec": {
   "display_name": "sonda",
   "language": "python",
   "name": "python3"
  },
  "language_info": {
   "codemirror_mode": {
    "name": "ipython",
    "version": 3
   },
   "file_extension": ".py",
   "mimetype": "text/x-python",
   "name": "python",
   "nbconvert_exporter": "python",
   "pygments_lexer": "ipython3",
   "version": "3.9.18"
  }
 },
 "nbformat": 4,
 "nbformat_minor": 2
}
